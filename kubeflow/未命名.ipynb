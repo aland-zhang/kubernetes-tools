{
 "cells": [
  {
   "cell_type": "code",
   "execution_count": 1,
   "metadata": {},
   "outputs": [
    {
     "name": "stdout",
     "output_type": "stream",
     "text": [
      "总用量 116\n",
      "-rwxrwxr-x 1 supermap supermap  721 2月   2  2019 1_get-ksonnet.sh\n",
      "-rwxr-xr-x 1 supermap supermap  638 1月  27  2019 2_get-ks-images.sh\n",
      "-rwxr-xr-x 1 supermap supermap 1277 1月  27  2019 3_ks-init.sh\n",
      "drwxr-xr-x 2 supermap supermap 4096 1月  27  2019 anaconda\n",
      "drwxr-xr-x 2 supermap supermap 4096 1月  27  2019 build\n",
      "-rw-r--r-- 1 supermap supermap   55 1月  27  2019 github_token.txt\n",
      "-rw-r--r-- 1 supermap supermap  673 1月  27  2019 katacoda.sh\n",
      "drwxrwxr-x 5 supermap supermap 4096 3月  27  2019 kubeflow-000\n",
      "drwxr-xr-x 4 supermap supermap 4096 1月  27  2019 kubeflow013\n",
      "drwxr-xr-x 5 supermap supermap 4096 1月  27  2019 kubeflow020\n",
      "-rw-r--r-- 1 supermap supermap  302 1月  27  2019 kubeflow0.3.3-init.sh\n",
      "-rw-r--r-- 1 supermap supermap  232 1月  27  2019 kubeflow0.3.3-install.sh\n",
      "drwxrwxr-x 3 supermap supermap 4096 2月   2  2019 kubeflow041\n",
      "-rw-rw-r-- 1 supermap supermap  302 2月   2  2019 kubeflow0.4.1-init.sh\n",
      "-rwxrwxr-x 1 supermap supermap  232 2月   2  2019 kubeflow0.4.1-install.sh\n",
      "-rw-r--r-- 1 supermap supermap   73 1月  27  2019 kubeflow-create-env-013.sh\n",
      "drwxr-xr-x 5 supermap supermap 4096 1月  27  2019 kubeflow-dev\n",
      "-rw-r--r-- 1 supermap supermap  679 1月  27  2019 kubeflow-env.sh\n",
      "drwxr-xr-x 3 supermap supermap 4096 4月  24 21:44 kubeflow-images-tool\n",
      "-rwxr-xr-x 1 supermap supermap  427 1月  27  2019 kubeflow-init-020.sh\n",
      "drwxrwxr-x 5 supermap supermap 4096 2月   2  2019 my-kubeflow\n",
      "drwxr-xr-x 2 supermap supermap 4096 1月  27  2019 notebook\n",
      "-rwxr-xr-x 1 supermap supermap   56 1月  27  2019 portforward013.sh\n",
      "-rwxr-xr-x 1 supermap supermap  118 1月  27  2019 portforward.sh\n",
      "drwxr-xr-x 2 supermap supermap 4096 1月  27  2019 storage\n",
      "-rw-r--r-- 1 supermap supermap  347 1月  27  2019 tf-job-error-delete-crd.sh\n",
      "drwxrwxr-x 2 supermap supermap 4096 3月  27  2019 zettariver-gluster\n",
      "drwxrwxr-x 2 supermap supermap 4096 3月  27  2019 zettariver-gluster2\n",
      "-rw-r--r-- 1 supermap supermap  686 4月  27 11:19 未命名.ipynb\n"
     ]
    }
   ],
   "source": [
    "!ls -l"
   ]
  },
  {
   "cell_type": "code",
   "execution_count": null,
   "metadata": {},
   "outputs": [],
   "source": []
  }
 ],
 "metadata": {
  "kernelspec": {
   "display_name": "Python 3",
   "language": "python",
   "name": "python3"
  },
  "language_info": {
   "codemirror_mode": {
    "name": "ipython",
    "version": 3
   },
   "file_extension": ".py",
   "mimetype": "text/x-python",
   "name": "python",
   "nbconvert_exporter": "python",
   "pygments_lexer": "ipython3",
   "version": "3.6.9"
  }
 },
 "nbformat": 4,
 "nbformat_minor": 4
}
